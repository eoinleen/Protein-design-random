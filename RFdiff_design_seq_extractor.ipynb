{
  "nbformat": 4,
  "nbformat_minor": 0,
  "metadata": {
    "colab": {
      "provenance": [],
      "mount_file_id": "1sk4Ien4dJ_gB8MvfkJIfCcgmbJiZ4ELh",
      "authorship_tag": "ABX9TyPC2DVftihwi3nSgmeduF7r",
      "include_colab_link": true
    },
    "kernelspec": {
      "name": "python3",
      "display_name": "Python 3"
    },
    "language_info": {
      "name": "python"
    }
  },
  "cells": [
    {
      "cell_type": "markdown",
      "metadata": {
        "id": "view-in-github",
        "colab_type": "text"
      },
      "source": [
        "<a href=\"https://colab.research.google.com/github/eoinleen/Protein-design-random/blob/main/RFdiff_design_seq_extractor.ipynb\" target=\"_parent\"><img src=\"https://colab.research.google.com/assets/colab-badge.svg\" alt=\"Open In Colab\"/></a>"
      ]
    },
    {
      "cell_type": "code",
      "execution_count": 22,
      "metadata": {
        "colab": {
          "base_uri": "https://localhost:8080/"
        },
        "id": "m5b6bkpaipAD",
        "outputId": "6bf0e030-fb86-45b4-a59d-60093a3dbee6"
      },
      "outputs": [
        {
          "output_type": "stream",
          "name": "stdout",
          "text": [
            "Processing input file: /content/drive/MyDrive/Fasta-files/3NOB_90-110/3NOB_90-110_design.fasta\n",
            "Extracted 2048 sequences\n",
            "Saved to: /content/drive/MyDrive/Fasta-files/3NOB_90-110/extracted_sequences.fasta\n",
            "\n",
            "First few sequences:\n",
            ">0_0\n",
            "SLLAALEKAAKEEEAKKVTAEIEAIMSKITGKEVKLKPLSIDELEELKKLEEEVLKETDLETAEAALRELIMKILNKASDGSNKDANETVAIYIVAKIIEER\n",
            ">0_1\n",
            "SLLEKKEKEEAEEEAKKFTEEIEKILSELTGKKVTAKPISIEELKELKDLVTTVLEKTNLETAIDKLREKVMELLKKTTDGSDETAFETAAIRIVSKIIDKR\n",
            ">0_2\n",
            "AALAAAAAAAAAAAAAALTARIEAVMSEISGKPVTLKPISIAELNELLNLLTNLLEETDLETAEAALREKIMKLLKKASGGENKDINETVAIKLVSEFIDSI\n"
          ]
        }
      ],
      "source": [
        "from Bio import SeqIO\n",
        "from Bio.SeqRecord import SeqRecord\n",
        "from Bio.Seq import Seq\n",
        "import os\n",
        "\n",
        "def extract_designed_sequences(input_file, output_file):\n",
        "    \"\"\"Extract designed sequences from RF_diffusion output and save to new FASTA file.\"\"\"\n",
        "\n",
        "    # Check if input file exists\n",
        "    if not os.path.exists(input_file):\n",
        "        raise FileNotFoundError(f\"Input file not found: {input_file}\")\n",
        "\n",
        "    # Create output directory if it doesn't exist\n",
        "    os.makedirs(os.path.dirname(output_file), exist_ok=True)\n",
        "\n",
        "    # Initialize list to store extracted sequences\n",
        "    extracted_sequences = []\n",
        "\n",
        "    # Parse the FASTA file and extract sequences\n",
        "    print(f\"Processing input file: {input_file}\")\n",
        "    for idx, record in enumerate(SeqIO.parse(input_file, \"fasta\")):\n",
        "        try:\n",
        "            # Parse the n number from the description\n",
        "            desc_parts = record.description.split('|')\n",
        "            id_parts = desc_parts[0].split()  # Split 'design:0 n:0'\n",
        "            n_value = [p.split(':')[1] for p in id_parts if p.startswith('n:')][0]\n",
        "\n",
        "            # Create new ID in format \"0_0\"\n",
        "            new_id = f\"0_{n_value}\"\n",
        "\n",
        "            # Extract sequence after '/'\n",
        "            if '/' in str(record.seq):\n",
        "                designed_seq = str(record.seq).split('/')[1].strip()\n",
        "\n",
        "                # Create new record\n",
        "                new_record = SeqRecord(\n",
        "                    Seq(designed_seq),\n",
        "                    id=new_id,\n",
        "                    description=\"\"  # Clear description for clean output\n",
        "                )\n",
        "                extracted_sequences.append(new_record)\n",
        "            else:\n",
        "                print(f\"Warning: No '/' found in sequence {record.id}\")\n",
        "\n",
        "        except Exception as e:\n",
        "            print(f\"Warning: Could not process sequence {idx}: {str(e)}\")\n",
        "            continue\n",
        "\n",
        "    # Check if we found any sequences\n",
        "    if not extracted_sequences:\n",
        "        raise ValueError(\"No valid sequences found in input file\")\n",
        "\n",
        "    # Write extracted sequences to output file\n",
        "    SeqIO.write(extracted_sequences, output_file, \"fasta\")\n",
        "    print(f\"Extracted {len(extracted_sequences)} sequences\")\n",
        "    print(f\"Saved to: {output_file}\")\n",
        "\n",
        "    return extracted_sequences\n",
        "\n",
        "if __name__ == \"__main__\":\n",
        "    # Input and output file paths\n",
        "    input_file = \"/content/drive/MyDrive/Fasta-files/3NOB_90-110/3NOB_90-110_design.fasta\"  # Update this path\n",
        "    output_file = \"/content/drive/MyDrive/Fasta-files/3NOB_90-110/extracted_sequences.fasta\"\n",
        "\n",
        "    try:\n",
        "        sequences = extract_designed_sequences(input_file, output_file)\n",
        "        print(f\"\\nFirst few sequences:\")\n",
        "        for seq in sequences[:3]:  # Show first 3 sequences\n",
        "            print(f\">{seq.id}\")\n",
        "            print(seq.seq)\n",
        "    except Exception as e:\n",
        "        print(f\"Error: {str(e)}\")"
      ]
    },
    {
      "cell_type": "markdown",
      "source": [],
      "metadata": {
        "id": "2kff_ygqC5i1"
      }
    }
  ]
}